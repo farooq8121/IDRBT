{
 "cells": [
  {
   "cell_type": "code",
   "execution_count": 25,
   "metadata": {},
   "outputs": [],
   "source": [
    "from bs4 import BeautifulSoup\n",
    "from selenium import webdriver\n",
    "import time,nltk\n",
    "chromedriver=r\"D:\\BDSR-Applications\\chromedriver.exe\"\n"
   ]
  },
  {
   "cell_type": "code",
   "execution_count": null,
   "metadata": {},
   "outputs": [],
   "source": []
  },
  {
   "cell_type": "code",
   "execution_count": 26,
   "metadata": {},
   "outputs": [],
   "source": [
    "options = webdriver.ChromeOptions()\n",
    "options.add_argument('headless')\n",
    "driver = webdriver.Chrome(executable_path=chromedriver,  options=options)  ## Intialise the chrome driver"
   ]
  },
  {
   "cell_type": "code",
   "execution_count": 27,
   "metadata": {},
   "outputs": [
    {
     "name": "stdout",
     "output_type": "stream",
     "text": [
      "Time Elapsed 57.5602011680603\n"
     ]
    }
   ],
   "source": [
    "start=time.time()\n",
    "driver.get(\"https://www.idrbt.ac.in/\")  ## Get the webpage of IDRBT\n",
    "end=time.time()\n",
    "print(\"Time Elapsed\",end-start)"
   ]
  },
  {
   "cell_type": "code",
   "execution_count": 28,
   "metadata": {},
   "outputs": [],
   "source": [
    "source=driver.page_source            ## Get the html page source\n",
    "soup=BeautifulSoup(source,\"lxml\")    ## Using beautiful soup to parse page"
   ]
  },
  {
   "cell_type": "code",
   "execution_count": 30,
   "metadata": {},
   "outputs": [],
   "source": [
    "words=[]\n",
    "for txt in soup.text.splitlines():  ## Extracting the words \n",
    "    txt1=txt.replace(\" \",'')\n",
    "    if(txt1):\n",
    "        words.append(txt)\n",
    "    else:\n",
    "        pass"
   ]
  },
  {
   "cell_type": "code",
   "execution_count": 33,
   "metadata": {},
   "outputs": [],
   "source": [
    "\n",
    "nouns = [] #empty  list to hold all nouns\n",
    "verbs = [] ##empty  verbs to hold all nouns\n",
    "for word in words:\n",
    "     for word,pos in nltk.pos_tag(nltk.word_tokenize(str(word))):   ## Detecting the verbs and nouns from words\n",
    "        #print(pos)\n",
    "        if(len(word)>1):\n",
    "            if (pos in ['NN','NNP','NNS','NNPS']):\n",
    "                nouns.append(word)\n",
    "            elif pos in ['VB','VBD','VBG','VBN','VBP','VBZ'] :\n",
    "                verbs.append(word)\n",
    "            else:\n",
    "                pass\n",
    "        else:\n",
    "            pass"
   ]
  },
  {
   "cell_type": "code",
   "execution_count": 24,
   "metadata": {},
   "outputs": [],
   "source": [
    "#nltk.download('brown')\n",
    "#nltk.download('punkt')\n",
    "#nltk.download('averaged_perceptron_tagger')"
   ]
  },
  {
   "cell_type": "code",
   "execution_count": null,
   "metadata": {},
   "outputs": [],
   "source": []
  },
  {
   "cell_type": "code",
   "execution_count": null,
   "metadata": {},
   "outputs": [],
   "source": []
  },
  {
   "cell_type": "code",
   "execution_count": null,
   "metadata": {},
   "outputs": [],
   "source": []
  }
 ],
 "metadata": {
  "kernelspec": {
   "display_name": "Python 3",
   "language": "python",
   "name": "python3"
  },
  "language_info": {
   "codemirror_mode": {
    "name": "ipython",
    "version": 3
   },
   "file_extension": ".py",
   "mimetype": "text/x-python",
   "name": "python",
   "nbconvert_exporter": "python",
   "pygments_lexer": "ipython3",
   "version": "3.8.3"
  }
 },
 "nbformat": 4,
 "nbformat_minor": 4
}
